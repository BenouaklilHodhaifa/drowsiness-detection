{
 "cells": [
  {
   "cell_type": "code",
   "execution_count": 1,
   "metadata": {},
   "outputs": [
    {
     "ename": "ModuleNotFoundError",
     "evalue": "No module named 'dlib'",
     "output_type": "error",
     "traceback": [
      "\u001b[1;31m---------------------------------------------------------------------------\u001b[0m",
      "\u001b[1;31mModuleNotFoundError\u001b[0m                       Traceback (most recent call last)",
      "Cell \u001b[1;32mIn[1], line 2\u001b[0m\n\u001b[0;32m      1\u001b[0m \u001b[38;5;28;01mimport\u001b[39;00m \u001b[38;5;21;01mcv2\u001b[39;00m\n\u001b[1;32m----> 2\u001b[0m \u001b[38;5;28;01mimport\u001b[39;00m \u001b[38;5;21;01mdlib\u001b[39;00m\n\u001b[0;32m      3\u001b[0m \u001b[38;5;28;01mimport\u001b[39;00m \u001b[38;5;21;01mnumpy\u001b[39;00m \u001b[38;5;28;01mas\u001b[39;00m \u001b[38;5;21;01mnp\u001b[39;00m\n\u001b[0;32m      4\u001b[0m \u001b[38;5;28;01mfrom\u001b[39;00m \u001b[38;5;21;01mscipy\u001b[39;00m\u001b[38;5;21;01m.\u001b[39;00m\u001b[38;5;21;01mspatial\u001b[39;00m \u001b[38;5;28;01mimport\u001b[39;00m distance \u001b[38;5;28;01mas\u001b[39;00m dist\n",
      "\u001b[1;31mModuleNotFoundError\u001b[0m: No module named 'dlib'"
     ]
    }
   ],
   "source": [
    "import cv2\n",
    "import dlib\n",
    "import numpy as np\n",
    "from scipy.spatial import distance as dist\n",
    "\n",
    "# Load dlib's pre-trained model\n",
    "detector = dlib.get_frontal_face_detector()\n",
    "predictor = dlib.shape_predictor(\"shape_predictor_68_face_landmarks.dat\")\n",
    "\n",
    "# Define eye aspect ratio calculation function\n",
    "def eye_aspect_ratio(eye):\n",
    "    A = dist.euclidean(eye[1], eye[5])\n",
    "    B = dist.euclidean(eye[2], eye[4])\n",
    "    C = dist.euclidean(eye[0], eye[3])\n",
    "    ear = (A + B) / (2.0 * C)\n",
    "    return ear\n",
    "\n",
    "# Threshold for EAR to consider the eye closed\n",
    "EAR_THRESHOLD = 0.2\n",
    "\n",
    "# Load the image\n",
    "image_path = '/pics/opened/1.jpg'\n",
    "image = cv2.imread(image_path)\n",
    "gray = cv2.cvtColor(image, cv2.COLOR_BGR2GRAY)\n",
    "\n",
    "# Detect faces\n",
    "faces = detector(gray, 1)\n",
    "\n",
    "# Iterate over detected faces\n",
    "for face in faces:\n",
    "    landmarks = predictor(gray, face)\n",
    "\n",
    "    # Get the coordinates of the left and right eye\n",
    "    left_eye = np.array([(landmarks.part(36).x, landmarks.part(36).y),\n",
    "                         (landmarks.part(37).x, landmarks.part(37).y),\n",
    "                         (landmarks.part(38).x, landmarks.part(38).y),\n",
    "                         (landmarks.part(39).x, landmarks.part(39).y),\n",
    "                         (landmarks.part(40).x, landmarks.part(40).y),\n",
    "                         (landmarks.part(41).x, landmarks.part(41).y)], np.int32)\n",
    "\n",
    "    right_eye = np.array([(landmarks.part(42).x, landmarks.part(42).y),\n",
    "                          (landmarks.part(43).x, landmarks.part(43).y),\n",
    "                          (landmarks.part(44).x, landmarks.part(44).y),\n",
    "                          (landmarks.part(45).x, landmarks.part(45).y),\n",
    "                          (landmarks.part(46).x, landmarks.part(46).y),\n",
    "                          (landmarks.part(47).x, landmarks.part(47).y)], np.int32)\n",
    "\n",
    "    # Calculate EAR for both eyes\n",
    "    left_ear = eye_aspect_ratio(left_eye)\n",
    "    right_ear = eye_aspect_ratio(right_eye)\n",
    "\n",
    "    # Draw the eyes and the result on the image\n",
    "    cv2.polylines(image, [left_eye], isClosed=True, color=(0, 255, 0), thickness=1)\n",
    "    cv2.polylines(image, [right_eye], isClosed=True, color=(0, 255, 0), thickness=1)\n",
    "\n",
    "    # Check if eyes are closed\n",
    "    if left_ear < EAR_THRESHOLD and right_ear < EAR_THRESHOLD:\n",
    "        cv2.putText(image, \"Eyes Closed\", (face.left(), face.top() - 10),\n",
    "                    cv2.FONT_HERSHEY_SIMPLEX, 0.5, (0, 0, 255), 2)\n",
    "    else:\n",
    "        cv2.putText(image, \"Eyes Open\", (face.left(), face.top() - 10),\n",
    "                    cv2.FONT_HERSHEY_SIMPLEX, 0.5, (0, 255, 0), 2)\n",
    "\n",
    "# Display the result\n",
    "cv2.imshow(\"Output\", image)\n",
    "cv2.waitKey(0)\n",
    "cv2.destroyAllWindows()"
   ]
  }
 ],
 "metadata": {
  "kernelspec": {
   "display_name": "base",
   "language": "python",
   "name": "python3"
  },
  "language_info": {
   "codemirror_mode": {
    "name": "ipython",
    "version": 3
   },
   "file_extension": ".py",
   "mimetype": "text/x-python",
   "name": "python",
   "nbconvert_exporter": "python",
   "pygments_lexer": "ipython3",
   "version": "3.11.5"
  }
 },
 "nbformat": 4,
 "nbformat_minor": 2
}
