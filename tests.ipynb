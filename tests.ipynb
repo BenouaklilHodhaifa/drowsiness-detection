{
 "cells": [
  {
   "cell_type": "code",
   "execution_count": 21,
   "metadata": {},
   "outputs": [],
   "source": [
    "import dlib\n",
    "import numpy as np\n",
    "from scipy.spatial import distance as dist\n",
    "import cv2\n",
    "\n",
    "# Load dlib's pre-trained model\n",
    "detector = dlib.get_frontal_face_detector()\n",
    "predictor = dlib.shape_predictor(\"shape_predictor_68_face_landmarks.dat\")\n",
    "\n",
    "# Load the image\n",
    "image_path = 'pics/closed/1.jpg'\n",
    "image = cv2.imread(image_path)\n",
    "gray = cv2.cvtColor(image, cv2.COLOR_BGR2GRAY)\n",
    "\n",
    "# Detect faces\n",
    "faces = detector(gray, 1)\n",
    "\n",
    "# Iterate over detected faces\n",
    "for face in faces:\n",
    "    landmarks = predictor(gray, face)\n",
    "\n",
    "    # Get the coordinates of the left and right eye\n",
    "    left_eye = np.array([(landmarks.part(0).x, landmarks.part(0).y),\n",
    "                         (landmarks.part(19).x, landmarks.part(19).y),\n",
    "                         (landmarks.part(27).x, landmarks.part(27).y),\n",
    "                         (landmarks.part(41).x, landmarks.part(41).y),\n",
    "                         ], np.int32)\n",
    "\n",
    "    right_eye = np.array([\n",
    "                          (landmarks.part(24).x, landmarks.part(24).y),\n",
    "                          (landmarks.part(16).x, landmarks.part(16).y),\n",
    "                          (landmarks.part(46).x, landmarks.part(46).y),\n",
    "                          (landmarks.part(27).x, landmarks.part(27).y),\n",
    "                          ], np.int32)\n",
    "\n",
    "    cv2.polylines(image, [left_eye], isClosed=True, color=(0, 255, 0), thickness=1)\n",
    "    cv2.polylines(image, [right_eye], isClosed=True, color=(0, 255, 0), thickness=1)\n",
    "    \n",
    "# Display the result\n",
    "cv2.imshow(\"Output\", image)\n",
    "cv2.waitKey(0)\n",
    "cv2.destroyAllWindows()"
   ]
  }
 ],
 "metadata": {
  "kernelspec": {
   "display_name": "base",
   "language": "python",
   "name": "python3"
  },
  "language_info": {
   "codemirror_mode": {
    "name": "ipython",
    "version": 3
   },
   "file_extension": ".py",
   "mimetype": "text/x-python",
   "name": "python",
   "nbconvert_exporter": "python",
   "pygments_lexer": "ipython3",
   "version": "3.11.8"
  }
 },
 "nbformat": 4,
 "nbformat_minor": 2
}
